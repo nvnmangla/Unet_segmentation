{
 "cells": [
  {
   "cell_type": "code",
   "execution_count": 1,
   "metadata": {},
   "outputs": [],
   "source": [
    "import torch\n",
    "import torch.nn as nn\n",
    "import torchvision.transforms.functional as TF\n",
    "from tqdm import tqdm\n",
    "import torch.optim as optim \n",
    "from unet import *\n",
    "import albumentations as A\n",
    "from albumentations.pytorch import ToTensorV2\n",
    "from utils import *\n",
    "import numpy as np"
   ]
  },
  {
   "attachments": {},
   "cell_type": "markdown",
   "metadata": {},
   "source": [
    "### Hyperparametes and constants \n"
   ]
  },
  {
   "cell_type": "code",
   "execution_count": 2,
   "metadata": {},
   "outputs": [],
   "source": [
    "LEARNING_RATE =  1e-4\n",
    "BATCH_SIZE = 16\n",
    "NUM_EPOCHS = 30\n",
    "NUM_WORKERS = 4\n",
    "IMAGE_HEIGHT = 160\n",
    "IMAGE_WIDTH = 240\n",
    "PIN_MEMORY = True\n",
    "LOAD_MODEL = False\n",
    "TRIAN_IMAGE_DIR = \"dataset/train/train/\"\n",
    "TRIAN_MASK_DIR = \"dataset/masks/train_masks/\"\n",
    "\n",
    "\n",
    "VAL_IMAGE_DIR = \"dataset/val_images/\"\n",
    "VAL_MASK_DIR = \"dataset/valid_masks/\"\n",
    "\n",
    "\n",
    "TRAIN_LOSS = []\n",
    "VAL_ACCURACY = []\n",
    "\n",
    "DEVICE = \"cuda\" if torch.cuda.is_available() else \"cpu\"\n",
    "\n",
    "\n",
    "\n",
    "\n"
   ]
  },
  {
   "attachments": {},
   "cell_type": "markdown",
   "metadata": {},
   "source": [
    "### Training funtion and results "
   ]
  },
  {
   "cell_type": "code",
   "execution_count": 3,
   "metadata": {},
   "outputs": [
    {
     "name": "stdout",
     "output_type": "stream",
     "text": [
      "Runnning 1/30 ==============     \n",
      "\n"
     ]
    },
    {
     "name": "stderr",
     "output_type": "stream",
     "text": [
      "100%|██████████| 315/315 [01:15<00:00,  4.17it/s, loss=0.0824]\n"
     ]
    },
    {
     "name": "stdout",
     "output_type": "stream",
     "text": [
      "Saving Chackpoint\n",
      "Got 1830817/1843200 with acc 99.33 \n",
      "Dice Score: 0.9826465845108032\n",
      "Runnning 2/30 ==============     \n",
      "\n"
     ]
    },
    {
     "name": "stderr",
     "output_type": "stream",
     "text": [
      "100%|██████████| 315/315 [01:16<00:00,  4.11it/s, loss=0.0459]\n"
     ]
    },
    {
     "name": "stdout",
     "output_type": "stream",
     "text": [
      "Saving Chackpoint\n",
      "Got 1831341/1843200 with acc 99.36 \n",
      "Dice Score: 0.9835528135299683\n",
      "Runnning 3/30 ==============     \n",
      "\n"
     ]
    },
    {
     "name": "stderr",
     "output_type": "stream",
     "text": [
      "100%|██████████| 315/315 [01:16<00:00,  4.12it/s, loss=0.0328]\n"
     ]
    },
    {
     "name": "stdout",
     "output_type": "stream",
     "text": [
      "Saving Chackpoint\n",
      "Got 1834320/1843200 with acc 99.52 \n",
      "Dice Score: 0.9875349402427673\n",
      "Runnning 4/30 ==============     \n",
      "\n"
     ]
    },
    {
     "name": "stderr",
     "output_type": "stream",
     "text": [
      "100%|██████████| 315/315 [01:16<00:00,  4.12it/s, loss=0.0271]\n"
     ]
    },
    {
     "name": "stdout",
     "output_type": "stream",
     "text": [
      "Saving Chackpoint\n",
      "Got 1833630/1843200 with acc 99.48 \n",
      "Dice Score: 0.9867117404937744\n",
      "Runnning 5/30 ==============     \n",
      "\n"
     ]
    },
    {
     "name": "stderr",
     "output_type": "stream",
     "text": [
      "100%|██████████| 315/315 [01:16<00:00,  4.11it/s, loss=0.0228]\n"
     ]
    },
    {
     "name": "stdout",
     "output_type": "stream",
     "text": [
      "Saving Chackpoint\n",
      "Got 1835121/1843200 with acc 99.56 \n",
      "Dice Score: 0.9886841773986816\n",
      "Runnning 6/30 ==============     \n",
      "\n"
     ]
    },
    {
     "name": "stderr",
     "output_type": "stream",
     "text": [
      "100%|██████████| 315/315 [01:16<00:00,  4.11it/s, loss=0.0206]\n"
     ]
    },
    {
     "name": "stdout",
     "output_type": "stream",
     "text": [
      "Saving Chackpoint\n",
      "Got 1835366/1843200 with acc 99.57 \n",
      "Dice Score: 0.9890651702880859\n",
      "Runnning 7/30 ==============     \n",
      "\n"
     ]
    },
    {
     "name": "stderr",
     "output_type": "stream",
     "text": [
      "100%|██████████| 315/315 [01:16<00:00,  4.12it/s, loss=0.0159]\n"
     ]
    },
    {
     "name": "stdout",
     "output_type": "stream",
     "text": [
      "Saving Chackpoint\n",
      "Got 1835509/1843200 with acc 99.58 \n",
      "Dice Score: 0.9892868995666504\n",
      "Runnning 8/30 ==============     \n",
      "\n"
     ]
    },
    {
     "name": "stderr",
     "output_type": "stream",
     "text": [
      "100%|██████████| 315/315 [01:16<00:00,  4.11it/s, loss=0.0189]\n"
     ]
    },
    {
     "name": "stdout",
     "output_type": "stream",
     "text": [
      "Saving Chackpoint\n",
      "Got 1835493/1843200 with acc 99.58 \n",
      "Dice Score: 0.9892492294311523\n",
      "Runnning 9/30 ==============     \n",
      "\n"
     ]
    },
    {
     "name": "stderr",
     "output_type": "stream",
     "text": [
      "100%|██████████| 315/315 [01:16<00:00,  4.11it/s, loss=0.0148]\n"
     ]
    },
    {
     "name": "stdout",
     "output_type": "stream",
     "text": [
      "Saving Chackpoint\n",
      "Got 1836059/1843200 with acc 99.61 \n",
      "Dice Score: 0.9899975657463074\n",
      "Runnning 10/30 ==============     \n",
      "\n"
     ]
    },
    {
     "name": "stderr",
     "output_type": "stream",
     "text": [
      "100%|██████████| 315/315 [01:18<00:00,  4.03it/s, loss=0.0147]\n"
     ]
    },
    {
     "name": "stdout",
     "output_type": "stream",
     "text": [
      "Saving Chackpoint\n",
      "Got 1836698/1843200 with acc 99.65 \n",
      "Dice Score: 0.9908975958824158\n",
      "Runnning 11/30 ==============     \n",
      "\n"
     ]
    },
    {
     "name": "stderr",
     "output_type": "stream",
     "text": [
      "100%|██████████| 315/315 [01:17<00:00,  4.05it/s, loss=0.0132]\n"
     ]
    },
    {
     "name": "stdout",
     "output_type": "stream",
     "text": [
      "Saving Chackpoint\n",
      "Got 1836136/1843200 with acc 99.62 \n",
      "Dice Score: 0.9901303052902222\n",
      "Runnning 12/30 ==============     \n",
      "\n"
     ]
    },
    {
     "name": "stderr",
     "output_type": "stream",
     "text": [
      "100%|██████████| 315/315 [01:17<00:00,  4.04it/s, loss=0.0149]\n"
     ]
    },
    {
     "name": "stdout",
     "output_type": "stream",
     "text": [
      "Saving Chackpoint\n",
      "Got 1836943/1843200 with acc 99.66 \n",
      "Dice Score: 0.9912423491477966\n",
      "Runnning 13/30 ==============     \n",
      "\n"
     ]
    },
    {
     "name": "stderr",
     "output_type": "stream",
     "text": [
      "100%|██████████| 315/315 [01:17<00:00,  4.04it/s, loss=0.0156]\n"
     ]
    },
    {
     "name": "stdout",
     "output_type": "stream",
     "text": [
      "Saving Chackpoint\n",
      "Got 1836499/1843200 with acc 99.64 \n",
      "Dice Score: 0.9905993342399597\n",
      "Runnning 14/30 ==============     \n",
      "\n"
     ]
    },
    {
     "name": "stderr",
     "output_type": "stream",
     "text": [
      "100%|██████████| 315/315 [01:17<00:00,  4.04it/s, loss=0.0136]\n"
     ]
    },
    {
     "name": "stdout",
     "output_type": "stream",
     "text": [
      "Saving Chackpoint\n",
      "Got 1833467/1843200 with acc 99.47 \n",
      "Dice Score: 0.9864691495895386\n",
      "Runnning 15/30 ==============     \n",
      "\n"
     ]
    },
    {
     "name": "stderr",
     "output_type": "stream",
     "text": [
      "100%|██████████| 315/315 [01:17<00:00,  4.05it/s, loss=0.0114]\n"
     ]
    },
    {
     "name": "stdout",
     "output_type": "stream",
     "text": [
      "Saving Chackpoint\n",
      "Got 1837103/1843200 with acc 99.67 \n",
      "Dice Score: 0.9914689064025879\n",
      "Runnning 16/30 ==============     \n",
      "\n"
     ]
    },
    {
     "name": "stderr",
     "output_type": "stream",
     "text": [
      "100%|██████████| 315/315 [01:17<00:00,  4.05it/s, loss=0.013] \n"
     ]
    },
    {
     "name": "stdout",
     "output_type": "stream",
     "text": [
      "Saving Chackpoint\n",
      "Got 1836773/1843200 with acc 99.65 \n",
      "Dice Score: 0.9909853339195251\n",
      "Runnning 17/30 ==============     \n",
      "\n"
     ]
    },
    {
     "name": "stderr",
     "output_type": "stream",
     "text": [
      "100%|██████████| 315/315 [01:17<00:00,  4.04it/s, loss=0.0106] \n"
     ]
    },
    {
     "name": "stdout",
     "output_type": "stream",
     "text": [
      "Saving Chackpoint\n",
      "Got 1837264/1843200 with acc 99.68 \n",
      "Dice Score: 0.9916753172874451\n",
      "Runnning 18/30 ==============     \n",
      "\n"
     ]
    },
    {
     "name": "stderr",
     "output_type": "stream",
     "text": [
      "100%|██████████| 315/315 [01:17<00:00,  4.05it/s, loss=0.0147] \n"
     ]
    },
    {
     "name": "stdout",
     "output_type": "stream",
     "text": [
      "Saving Chackpoint\n",
      "Got 1836312/1843200 with acc 99.63 \n",
      "Dice Score: 0.9903665781021118\n",
      "Runnning 19/30 ==============     \n",
      "\n"
     ]
    },
    {
     "name": "stderr",
     "output_type": "stream",
     "text": [
      "100%|██████████| 315/315 [01:18<00:00,  4.04it/s, loss=0.0125] \n"
     ]
    },
    {
     "name": "stdout",
     "output_type": "stream",
     "text": [
      "Saving Chackpoint\n",
      "Got 1837107/1843200 with acc 99.67 \n",
      "Dice Score: 0.9914827346801758\n",
      "Runnning 20/30 ==============     \n",
      "\n"
     ]
    },
    {
     "name": "stderr",
     "output_type": "stream",
     "text": [
      "100%|██████████| 315/315 [01:17<00:00,  4.06it/s, loss=0.0116] \n"
     ]
    },
    {
     "name": "stdout",
     "output_type": "stream",
     "text": [
      "Saving Chackpoint\n",
      "Got 1837073/1843200 with acc 99.67 \n",
      "Dice Score: 0.9914212226867676\n",
      "Runnning 21/30 ==============     \n",
      "\n"
     ]
    },
    {
     "name": "stderr",
     "output_type": "stream",
     "text": [
      "100%|██████████| 315/315 [01:16<00:00,  4.11it/s, loss=0.00996]\n"
     ]
    },
    {
     "name": "stdout",
     "output_type": "stream",
     "text": [
      "Saving Chackpoint\n",
      "Got 1837454/1843200 with acc 99.69 \n",
      "Dice Score: 0.9919477701187134\n",
      "Runnning 22/30 ==============     \n",
      "\n"
     ]
    },
    {
     "name": "stderr",
     "output_type": "stream",
     "text": [
      "100%|██████████| 315/315 [01:16<00:00,  4.11it/s, loss=0.00997]\n"
     ]
    },
    {
     "name": "stdout",
     "output_type": "stream",
     "text": [
      "Saving Chackpoint\n",
      "Got 1837266/1843200 with acc 99.68 \n",
      "Dice Score: 0.9916772842407227\n",
      "Runnning 23/30 ==============     \n",
      "\n"
     ]
    },
    {
     "name": "stderr",
     "output_type": "stream",
     "text": [
      "100%|██████████| 315/315 [01:16<00:00,  4.11it/s, loss=0.0108] \n"
     ]
    },
    {
     "name": "stdout",
     "output_type": "stream",
     "text": [
      "Saving Chackpoint\n",
      "Got 1837291/1843200 with acc 99.68 \n",
      "Dice Score: 0.9917258024215698\n",
      "Runnning 24/30 ==============     \n",
      "\n"
     ]
    },
    {
     "name": "stderr",
     "output_type": "stream",
     "text": [
      "100%|██████████| 315/315 [01:16<00:00,  4.12it/s, loss=0.0104] \n"
     ]
    },
    {
     "name": "stdout",
     "output_type": "stream",
     "text": [
      "Saving Chackpoint\n",
      "Got 1837400/1843200 with acc 99.69 \n",
      "Dice Score: 0.9918192625045776\n",
      "Runnning 25/30 ==============     \n",
      "\n"
     ]
    },
    {
     "name": "stderr",
     "output_type": "stream",
     "text": [
      "100%|██████████| 315/315 [01:16<00:00,  4.13it/s, loss=0.0119] \n"
     ]
    },
    {
     "name": "stdout",
     "output_type": "stream",
     "text": [
      "Saving Chackpoint\n",
      "Got 1837174/1843200 with acc 99.67 \n",
      "Dice Score: 0.9915889501571655\n",
      "Runnning 26/30 ==============     \n",
      "\n"
     ]
    },
    {
     "name": "stderr",
     "output_type": "stream",
     "text": [
      "100%|██████████| 315/315 [01:16<00:00,  4.14it/s, loss=0.0119] \n"
     ]
    },
    {
     "name": "stdout",
     "output_type": "stream",
     "text": [
      "Saving Chackpoint\n",
      "Got 1837558/1843200 with acc 99.69 \n",
      "Dice Score: 0.9920949935913086\n",
      "Runnning 27/30 ==============     \n",
      "\n"
     ]
    },
    {
     "name": "stderr",
     "output_type": "stream",
     "text": [
      "100%|██████████| 315/315 [01:16<00:00,  4.13it/s, loss=0.00952]\n"
     ]
    },
    {
     "name": "stdout",
     "output_type": "stream",
     "text": [
      "Saving Chackpoint\n",
      "Got 1837492/1843200 with acc 99.69 \n",
      "Dice Score: 0.9920130968093872\n",
      "Runnning 28/30 ==============     \n",
      "\n"
     ]
    },
    {
     "name": "stderr",
     "output_type": "stream",
     "text": [
      "100%|██████████| 315/315 [01:16<00:00,  4.12it/s, loss=0.0131] \n"
     ]
    },
    {
     "name": "stdout",
     "output_type": "stream",
     "text": [
      "Saving Chackpoint\n",
      "Got 1180433/1843200 with acc 64.04 \n",
      "Dice Score: 0.5184032320976257\n",
      "Runnning 29/30 ==============     \n",
      "\n"
     ]
    },
    {
     "name": "stderr",
     "output_type": "stream",
     "text": [
      "100%|██████████| 315/315 [01:16<00:00,  4.11it/s, loss=0.0113] \n"
     ]
    },
    {
     "name": "stdout",
     "output_type": "stream",
     "text": [
      "Saving Chackpoint\n",
      "Got 1837782/1843200 with acc 99.71 \n",
      "Dice Score: 0.9924232363700867\n",
      "Runnning 30/30 ==============     \n",
      "\n"
     ]
    },
    {
     "name": "stderr",
     "output_type": "stream",
     "text": [
      "100%|██████████| 315/315 [01:16<00:00,  4.11it/s, loss=0.0117] \n"
     ]
    },
    {
     "name": "stdout",
     "output_type": "stream",
     "text": [
      "Saving Chackpoint\n",
      "Got 1837669/1843200 with acc 99.70 \n",
      "Dice Score: 0.9922435283660889\n"
     ]
    },
    {
     "data": {
      "image/png": "[encoded data removed]",
      "text/plain": [
       "<Figure size 640x480 with 2 Axes>"
      ]
     },
     "metadata": {},
     "output_type": "display_data"
    }
   ],
   "source": [
    "\n",
    "import matplotlib.pyplot as plt\n",
    "\n",
    "\n",
    "def train_fn(loader,model,optimizer,loss_fn,scaler):\n",
    "    \n",
    "    loop = tqdm(loader)\n",
    "    loss = None\n",
    "    step_loss = []\n",
    "    for batch_idx,(data,targets) in enumerate(loop):\n",
    "        data = data.to(device=DEVICE)\n",
    "        targets =  targets.float().unsqueeze(1).to(DEVICE)\n",
    "        with torch.cuda.amp.autocast():\n",
    "            predictions = model(data)\n",
    "            loss = loss_fn(predictions,targets)\n",
    "            \n",
    "        optimizer.zero_grad()\n",
    "        scaler.scale(loss).backward()\n",
    "        scaler.step(optimizer)\n",
    "        scaler.update()   \n",
    "        \n",
    "        loop.set_postfix(loss=loss.item())\n",
    "        cuda_loss = torch.tensor(loss.item(), device='cuda')\n",
    "        # Move the loss to CPU\n",
    "        cpu_loss = cuda_loss.to('cpu')\n",
    "        # Now you have the loss on the CPU and can use it as needed\\\n",
    "        step_loss.append(cpu_loss)\n",
    "        \n",
    "    TRAIN_LOSS.append(np.array(step_loss).mean())\n",
    "\n",
    "def main():\n",
    "    torch.cuda.empty_cache()\n",
    "    train_transforms = A.Compose(\n",
    "            [\n",
    "                A.Resize(height=IMAGE_HEIGHT,width=IMAGE_WIDTH),\n",
    "                A.Rotate(limit=35,p=1.0),\n",
    "                A.HorizontalFlip(p=0.5),\n",
    "                A.VerticalFlip(p=0.1),\n",
    "                A.Normalize(\n",
    "                    mean=[0.0,0.0,0.0],\n",
    "                    std=[1.0,1.0,1.0],\n",
    "                    max_pixel_value=255\n",
    "                ),\n",
    "                \n",
    "                ToTensorV2(),\n",
    "            ],   \n",
    "        )\n",
    "    \n",
    "    val_transforms = A.Compose(\n",
    "            [\n",
    "                A.Resize(height=IMAGE_HEIGHT,width=IMAGE_WIDTH),\n",
    "                A.Normalize(\n",
    "                    mean=[0.0,0.0,0.0],\n",
    "                    std=[1.0,1.0,1.0],\n",
    "                    max_pixel_value=255\n",
    "                ),\n",
    "                ToTensorV2(),\n",
    "            ],   \n",
    "        )\n",
    "\n",
    "    model = UNET(in_channels=3,out_channels=1).to(DEVICE)\n",
    "    loss_fn = nn.BCEWithLogitsLoss()\n",
    "    optimizer = optim.Adam(model.parameters(),lr = LEARNING_RATE)\n",
    "    \n",
    "    train_loader,val_loader = get_loader(\n",
    "        TRIAN_IMAGE_DIR,\n",
    "        TRIAN_MASK_DIR,\n",
    "        VAL_IMAGE_DIR,\n",
    "        VAL_MASK_DIR,\n",
    "        BATCH_SIZE,\n",
    "        train_transforms,\n",
    "        val_transforms,\n",
    "        NUM_WORKERS,\n",
    "        PIN_MEMORY\n",
    "    )\n",
    "    \n",
    "    \n",
    "    scaler = torch.cuda.amp.GradScaler()\n",
    "    for ep in range(NUM_EPOCHS):\n",
    "        \n",
    "        print(f\"Runnning {ep+1}/{NUM_EPOCHS} ==============     \\n\")\n",
    "        \n",
    "        train_fn(train_loader,model,optimizer,loss_fn,scaler)\n",
    "        \n",
    "        checkpt = {\n",
    "            \"state_dict\":model.state_dict(),\n",
    "            \"optimizer\":optimizer.state_dict(),\n",
    "        }\n",
    "        \n",
    "        save_checkpoint(checkpt)\n",
    "        \n",
    "        accuracy = check_accuracy(val_loader,model,device=DEVICE)\n",
    "        \n",
    "        VAL_ACCURACY.append(accuracy)\n",
    "        \n",
    "        # Saving the image for visualization # Segmentation Graph\n",
    "        save_preds_as_imgs(\n",
    "            val_loader,model,folder=\"saved_images/\",device=DEVICE\n",
    "        )\n",
    "        \n",
    "    # plt.plot(TRAIN_LOSS, label='train_loss')\n",
    "    fig, (axs1,axs2) = plt.subplots(1,2)\n",
    "    fig.suptitle('Accuracy and Loss ')\n",
    "    axs1.plot(VAL_ACCURACY)\n",
    "    axs2.plot(TRAIN_LOSS)\n",
    "            \n",
    "        \n",
    "        \n",
    "\n",
    "if __name__ == \"__main__\":\n",
    "    main()"
   ]
  }
 ],
 "metadata": {
  "kernelspec": {
   "display_name": "pytorch",
   "language": "python",
   "name": "python3"
  },
  "language_info": {
   "codemirror_mode": {
    "name": "ipython",
    "version": 3
   },
   "file_extension": ".py",
   "mimetype": "text/x-python",
   "name": "python",
   "nbconvert_exporter": "python",
   "pygments_lexer": "ipython3",
   "version": "3.11.3"
  },
  "orig_nbformat": 4
 },
 "nbformat": 4,
 "nbformat_minor": 2
}
